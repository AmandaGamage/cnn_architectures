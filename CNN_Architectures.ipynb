{
  "cells": [
    {
      "cell_type": "markdown",
      "metadata": {
        "id": "view-in-github",
        "colab_type": "text"
      },
      "source": [
        "<a href=\"https://colab.research.google.com/github/AmandaGamage/cnn_architectures/blob/main/CNN_Architectures.ipynb\" target=\"_parent\"><img src=\"https://colab.research.google.com/assets/colab-badge.svg\" alt=\"Open In Colab\"/></a>"
      ]
    },
    {
      "cell_type": "markdown",
      "metadata": {
        "id": "kPLMYjzNHCrb"
      },
      "source": [
        "> ### EEE6503-01: Computer Vision\n",
        "\n",
        "# Homework \\# I: CNN Architectures"
      ]
    },
    {
      "cell_type": "markdown",
      "metadata": {
        "id": "azIYEJ_uHCrc"
      },
      "source": [
        "**<div style=\"text-align: right\"> Due date: Oct. 11th, 2024. </div>**\n",
        "**<div style=\"text-align: right\"> Please upload your file @ learnus by 9:00 PM. </div>**\n",
        "<div style=\"text-align: right\"> Lee Geon(이건): <a href=\"mailto:geon.lee@yonsei.ac.kr\">geon.lee@yonsei.ac.kr</a>\n",
        "<div style=\"text-align: right\"> Sanghoon Lee(이상훈): <a href=\"mailto:shoon.lee@yonsei.ac.kr\">shoon.lee@yonsei.ac.kr</a> </div>"
      ]
    },
    {
      "cell_type": "markdown",
      "metadata": {
        "id": "Lo56Bp1KHCrc"
      },
      "source": [
        "### *Assignment Instructions:*\n",
        "1. Write a program implementing a particular algorithm to solve a given problem.\n",
        "2. You can use both Korean and English for your report.\n",
        "3. **Analyze the algorithm, theoretically and empirically.**\n",
        "4. **Report your results.**"
      ]
    },
    {
      "cell_type": "markdown",
      "metadata": {
        "id": "7Ne6F1NIHCrd"
      },
      "source": [
        "<h2><span style=\"color:blue\">[2023321198] [Gamage Amanda Sheron]</span> </h2>"
      ]
    },
    {
      "cell_type": "code",
      "execution_count": null,
      "metadata": {
        "colab": {
          "base_uri": "https://localhost:8080/"
        },
        "id": "HBTwxIFaHCrd",
        "outputId": "c6c5f6ef-0376-4f11-a9b1-317e8c4d58c4"
      },
      "outputs": [
        {
          "output_type": "stream",
          "name": "stdout",
          "text": [
            "This code is written at 2024-10-10 07:17:56.680768\n"
          ]
        }
      ],
      "source": [
        "import datetime\n",
        "print(\"This code is written at \" + str(datetime.datetime.now()))"
      ]
    },
    {
      "cell_type": "markdown",
      "metadata": {
        "id": "OMuMsHt0HCrd"
      },
      "source": [
        "The objective of this assignment is to train the MobileNetV2, VGGNet, and ResNet models to classify the CIFAR-10 dataset\n",
        "(Please refer to the papers of [MobileNetV2](https://arxiv.org/abs/1801.04381),\n",
        "[VGGNet](https://arxiv.org/abs/1409.1556), and\n",
        "[ResNet](https://arxiv.org/abs/1512.03385))."
      ]
    },
    {
      "cell_type": "code",
      "execution_count": null,
      "metadata": {
        "id": "XdFQSR5zHCrd"
      },
      "outputs": [],
      "source": [
        "import torch\n",
        "import torch.nn as nn\n",
        "import torch.nn.functional as F\n",
        "\n",
        "import math\n",
        "import numpy as np\n",
        "import matplotlib.pyplot as plt\n",
        "import sklearn.datasets\n",
        "import torch.optim as optim\n",
        "from torch.optim import lr_scheduler\n",
        "\n",
        "torch.manual_seed(100)\n",
        "np.random.seed(100)"
      ]
    },
    {
      "cell_type": "markdown",
      "metadata": {
        "id": "7GB6YZ_vHCre"
      },
      "source": [
        "Step 1: Load the dataset"
      ]
    },
    {
      "cell_type": "code",
      "execution_count": null,
      "metadata": {
        "colab": {
          "base_uri": "https://localhost:8080/"
        },
        "id": "m_EXCwUoHCre",
        "outputId": "71db98ac-2c1f-4840-bba8-4d928136b5be"
      },
      "outputs": [
        {
          "output_type": "stream",
          "name": "stdout",
          "text": [
            "Downloading https://www.cs.toronto.edu/~kriz/cifar-10-python.tar.gz to ./data/cifar-10-python.tar.gz\n"
          ]
        },
        {
          "output_type": "stream",
          "name": "stderr",
          "text": [
            "100%|██████████| 170498071/170498071 [00:10<00:00, 16022372.26it/s]\n"
          ]
        },
        {
          "output_type": "stream",
          "name": "stdout",
          "text": [
            "Extracting ./data/cifar-10-python.tar.gz to ./data\n",
            "Files already downloaded and verified\n"
          ]
        }
      ],
      "source": [
        "import torchvision\n",
        "import torchvision.transforms as transforms\n",
        "\n",
        "########## DO NOT modify this code ##########\n",
        "train_transform = transforms.Compose([\n",
        "    transforms.RandomHorizontalFlip(),\n",
        "    transforms.RandomCrop(32, padding=0),\n",
        "    transforms.ToTensor(),\n",
        "    transforms.Normalize((0.4914, 0.4822, 0.4465), (0.2023, 0.1994, 0.2010))\n",
        "])\n",
        "\n",
        "test_transform = transforms.Compose([\n",
        "    transforms.ToTensor(),\n",
        "    transforms.Normalize((0.4914, 0.4822, 0.4465), (0.2023, 0.1994, 0.2010))\n",
        "])\n",
        "\n",
        "train_data = torchvision.datasets.CIFAR10(root='./data', train=True, transform=train_transform, download=True)\n",
        "test_data = torchvision.datasets.CIFAR10(root='./data', train=False, transform=test_transform, download=True)\n",
        "\n",
        "\n",
        "train_loader = torch.utils.data.DataLoader(train_data, batch_size=128, shuffle=True, num_workers=2, pin_memory=True)\n",
        "test_loader = torch.utils.data.DataLoader(test_data, batch_size=100, shuffle=False, num_workers=1, pin_memory=True)"
      ]
    },
    {
      "cell_type": "markdown",
      "metadata": {
        "id": "Dyu1sZNzHCre"
      },
      "source": [
        "Step 2: Build the models\n",
        "\n",
        "Build the models of MobileNetV2, VGGNet-11, and ResNet-18.\n",
        "\n",
        "* Build the models without using **torch.nn.Conv2d, torch.nn.functional.conv2d, torch.nn.ReLU, torch.nn.functional.relu, torch.nn.ReLU6, torch.nn.functional.relu6, torch.nn.Linear, torch.nn.functional.linear, torch.nn.BatchNorm2d**, or **torch.nn.functional.batch_norm**.\n",
        "\n",
        "* Build the MobileNetV2, VGGNet-11, and ResNet-18 models following the configurations specified in [MobileNetV2](https://pytorch.org/vision/stable/_modules/torchvision/models/mobilenetv2.html), [VGGNet-11](https://pytorch.org/vision/0.8/_modules/torchvision/models/vgg.html#vgg11), and [ResNet-18](https://pytorch.org/vision/0.8/_modules/torchvision/models/resnet.html#resnet18), respectively\n",
        "(Note that the output size of the final layer should be set to 10).\n",
        "\n",
        "* You are free to adjust the number of channels and layers in models as needed."
      ]
    },
    {
      "cell_type": "code",
      "execution_count": null,
      "metadata": {
        "colab": {
          "base_uri": "https://localhost:8080/"
        },
        "id": "-jX-R-nKXtWN",
        "outputId": "aba0b77d-a57c-4ea3-8cdd-dcef274311a0"
      },
      "outputs": [
        {
          "output_type": "stream",
          "name": "stdout",
          "text": [
            "Mounted at /content/drive\n"
          ]
        }
      ],
      "source": [
        "from google.colab import drive\n",
        "drive.mount('/content/drive')"
      ]
    },
    {
      "cell_type": "code",
      "execution_count": null,
      "metadata": {
        "id": "P2Au3XvmHCre"
      },
      "outputs": [],
      "source": [
        "# You may use modules intended to initialize parameters, e.g., torch.nn.init.xavier_normal_\n",
        "class Conv(nn.Module):\n",
        "    def __init__(self, in_channels, out_channels, kernel_size, stride=1, padding=0):\n",
        "        super(Conv, self).__init__()\n",
        "\n",
        "        self.weight = nn.Parameter(torch.randn(out_channels, in_channels, kernel_size, kernel_size))\n",
        "        self.bias = nn.Parameter(torch.zeros(out_channels))\n",
        "        self.stride = stride\n",
        "        self.padding = padding\n",
        "        self.kernel_size = kernel_size\n",
        "\n",
        "        nn.init.xavier_normal_(self.weight)\n",
        "        nn.init.zeros_(self.bias)\n",
        "\n",
        "    def forward(self, x):\n",
        "        batch_size, in_channels, height, width = x.shape\n",
        "\n",
        "        # Manually add padding to ensure size consistency\n",
        "        if self.padding > 0:\n",
        "            x = F.pad(x, (self.padding, self.padding, self.padding, self.padding))\n",
        "\n",
        "        # Unfold operation\n",
        "        x_unf = nn.functional.unfold(x, kernel_size=self.kernel_size, stride=self.stride)\n",
        "        weight_reshaped = self.weight.view(self.weight.size(0), -1)\n",
        "\n",
        "        # Calculate the output using matrix multiplication\n",
        "        out = torch.einsum('bkn,ok->bon', x_unf, weight_reshaped) + self.bias.unsqueeze(1)\n",
        "\n",
        "        # Calculate output height and width based on stride and padding\n",
        "        out_height = (height + 2 * self.padding - self.kernel_size) // self.stride + 1\n",
        "        out_width = (width + 2 * self.padding - self.kernel_size) // self.stride + 1\n",
        "\n",
        "        return out.view(batch_size, weight_reshaped.size(0), out_height, out_width)\n",
        "\n",
        "class DepthwiseConv(nn.Module):\n",
        "    def __init__(self, in_channels, kernel_size, stride=1, padding=0):\n",
        "        super(DepthwiseConv, self).__init__()\n",
        "        self.in_channels = in_channels\n",
        "        self.kernel_size = kernel_size\n",
        "        self.stride = stride\n",
        "        self.padding = padding\n",
        "        self.weight = nn.Parameter(torch.randn(in_channels, 1, kernel_size, kernel_size))  # (in_channels, 1, k, k)\n",
        "        self.bias = nn.Parameter(torch.randn(in_channels))\n",
        "\n",
        "    def forward(self, x):\n",
        "        batch_size, in_channels, height, width = x.size()\n",
        "\n",
        "        x = F.pad(x, (self.padding, self.padding, self.padding, self.padding))\n",
        "\n",
        "        x_unf = nn.functional.unfold(x, kernel_size=self.kernel_size, padding=0, stride=self.stride)\n",
        "        x_unf = x_unf.view(batch_size, in_channels, self.kernel_size**2, -1)\n",
        "\n",
        "        weight_reshaped = self.weight.view(in_channels, -1).to(x.device)\n",
        "\n",
        "        out = torch.einsum('bikn,ik->bin', x_unf, weight_reshaped) + self.bias.view(1, -1, 1)\n",
        "\n",
        "        # Reshape to get the output in the correct spatial dimensions\n",
        "        out_height = (height - self.kernel_size + 2 * self.padding) // self.stride + 1\n",
        "        out_width = (width - self.kernel_size + 2 * self.padding) // self.stride + 1\n",
        "        out_dconv=out.view(batch_size, in_channels, out_height, out_width)\n",
        "        return out_dconv\n",
        "\n",
        "class ReLU(nn.Module):\n",
        "    def forward(self, x):\n",
        "        return torch.max(x, torch.tensor(0.0))\n",
        "\n",
        "class ReLU6(nn.Module):\n",
        "    def forward(self, x):\n",
        "        return torch.clamp(x, 0, 6)\n",
        "\n",
        "class Linear(nn.Module):\n",
        "    def __init__(self, in_features, out_features):\n",
        "        super(Linear, self).__init__()\n",
        "        self.weight = nn.Parameter(torch.randn(out_features, in_features))\n",
        "        self.bias = nn.Parameter(torch.zeros(out_features))\n",
        "        nn.init.xavier_normal_(self.weight)\n",
        "        nn.init.zeros_(self.bias)\n",
        "\n",
        "    def forward(self, x):\n",
        "        linear_layer=torch.matmul(x, self.weight.T) + self.bias\n",
        "        return linear_layer\n",
        "\n",
        "\n",
        "class BatchNorm2d(nn.Module):\n",
        "    def __init__(self, num_features, eps=1e-5, momentum=0.1):\n",
        "        super(BatchNorm2d, self).__init__()\n",
        "        self.gamma = nn.Parameter(torch.ones(num_features))\n",
        "        self.beta = nn.Parameter(torch.zeros(num_features))\n",
        "        self.momentum = momentum\n",
        "        self.eps = eps\n",
        "\n",
        "        self.register_buffer('running_mean', torch.zeros(num_features))\n",
        "        self.register_buffer('running_var', torch.ones(num_features))\n",
        "\n",
        "    def forward(self, x):\n",
        "      if self.training:\n",
        "        mean = x.mean([0, 2, 3], keepdim=True)\n",
        "        var = x.var([0, 2, 3], keepdim=True)\n",
        "\n",
        "        # Update running stats\n",
        "        self.running_mean = ((1 - self.momentum) * self.running_mean + self.momentum * mean.squeeze())\n",
        "        self.running_var = ((1 - self.momentum) * self.running_var + self.momentum * var.squeeze())\n",
        "      else:\n",
        "        mean = self.running_mean.view(1, -1, 1, 1)\n",
        "        var = self.running_var.view(1, -1, 1, 1)\n",
        "\n",
        "\n",
        "      x_normalized = (x - mean) / (var + self.eps).sqrt()\n",
        "      return self.gamma.view(1, -1, 1, 1) * x_normalized + self.beta.view(1, -1, 1, 1)"
      ]
    },
    {
      "cell_type": "markdown",
      "metadata": {
        "id": "LFt1PDED3m_w"
      },
      "source": [
        "# MobileNetV2"
      ]
    },
    {
      "cell_type": "code",
      "execution_count": null,
      "metadata": {
        "id": "AXr1qeumHwZ1"
      },
      "outputs": [],
      "source": [
        "class MobileNetV2(nn.Module):\n",
        "    def __init__(self, num_classes=10, width_mult=1.0):\n",
        "        super(MobileNetV2, self).__init__()\n",
        "\n",
        "\n",
        "        inverted_residual_setting = [\n",
        "            [1, 16, 1, 1],\n",
        "            [6, 24, 2, 2],\n",
        "            [6, 32, 3, 2],\n",
        "            [6, 64, 4, 2],\n",
        "            [6, 96, 3, 1],\n",
        "            [6, 160, 3, 2],\n",
        "            [6, 320, 1, 1],\n",
        "        ]\n",
        "\n",
        "        input_channel = int(32 * width_mult)\n",
        "        last_channel = int(1280 * width_mult)\n",
        "\n",
        "        self.features = nn.ModuleList([\n",
        "            Conv(3, input_channel, kernel_size=3, stride=1, padding=1),\n",
        "            BatchNorm2d(input_channel),\n",
        "            ReLU6()\n",
        "        ])\n",
        "\n",
        "\n",
        "        for t, c, n, s in inverted_residual_setting:\n",
        "            output_channel = int(c * width_mult)\n",
        "            for i in range(n):\n",
        "                stride = s if i == 0 else 1\n",
        "                self.features.append(self._make_inverted_residual(input_channel, output_channel, stride, expand_ratio=t))\n",
        "                input_channel = output_channel\n",
        "\n",
        "\n",
        "        self.features.append(Conv(input_channel, last_channel, kernel_size=1))\n",
        "        self.features.append(BatchNorm2d(last_channel))\n",
        "        self.features.append(ReLU6())\n",
        "\n",
        "\n",
        "        self.pool = nn.AdaptiveAvgPool2d((1, 1))\n",
        "        self.classifier = Linear(last_channel, num_classes)\n",
        "\n",
        "    def _make_inverted_residual(self, in_channels, out_channels, stride, expand_ratio):\n",
        "        hidden_dim = int(in_channels * expand_ratio)\n",
        "        layers = nn.ModuleList()\n",
        "\n",
        "        if expand_ratio != 1:\n",
        "            # 1x1 pointwise conv\n",
        "            layers.append(Conv(in_channels, hidden_dim, kernel_size=1))\n",
        "            layers.append(BatchNorm2d(hidden_dim))\n",
        "            layers.append(ReLU6())\n",
        "\n",
        "        # Depthwise convolution\n",
        "        layers.append(DepthwiseConv(hidden_dim, kernel_size=3, stride=stride, padding=1))\n",
        "        layers.append(BatchNorm2d(hidden_dim))\n",
        "        layers.append(ReLU6())\n",
        "\n",
        "        # 1x1 pointwise conv (projection)\n",
        "        layers.append(Conv(hidden_dim, out_channels, kernel_size=1))\n",
        "        layers.append(BatchNorm2d(out_channels))\n",
        "\n",
        "        return nn.Sequential(*layers)\n",
        "\n",
        "    def forward(self, x):\n",
        "        for layer in self.features:\n",
        "            x = layer(x)\n",
        "\n",
        "\n",
        "        x = self.pool(x)\n",
        "        x = x.view(x.size(0), -1)\n",
        "        x = self.classifier(x)\n",
        "        return x"
      ]
    },
    {
      "cell_type": "code",
      "execution_count": null,
      "metadata": {
        "id": "p1nVR6iTHCre",
        "scrolled": false
      },
      "outputs": [],
      "source": [
        "device = torch.device(\"cuda\" if torch.cuda.is_available() else \"cpu\")\n",
        "model_mobilenetv2 = MobileNetV2(num_classes=10).to(device)"
      ]
    },
    {
      "cell_type": "code",
      "execution_count": null,
      "metadata": {
        "colab": {
          "base_uri": "https://localhost:8080/"
        },
        "id": "fx3PnTLdHCrf",
        "outputId": "dff09f94-18d9-4825-c1dd-d10303279ca8"
      },
      "outputs": [
        {
          "output_type": "stream",
          "name": "stderr",
          "text": [
            "<ipython-input-8-e00e319dee4b>:8: FutureWarning: `torch.cuda.amp.GradScaler(args...)` is deprecated. Please use `torch.amp.GradScaler('cuda', args...)` instead.\n",
            "  scaler = torch.cuda.amp.GradScaler()\n",
            "<ipython-input-8-e00e319dee4b>:20: FutureWarning: `torch.cuda.amp.autocast(args...)` is deprecated. Please use `torch.amp.autocast('cuda', args...)` instead.\n",
            "  with torch.cuda.amp.autocast():\n"
          ]
        },
        {
          "output_type": "stream",
          "name": "stdout",
          "text": [
            "Epoch [1/50], Loss: 2.1260, Train Accuracy: 19.84%\n",
            "Epoch [2/50], Loss: 1.7786, Train Accuracy: 33.90%\n",
            "Epoch [3/50], Loss: 1.5999, Train Accuracy: 41.20%\n",
            "Epoch [4/50], Loss: 1.4805, Train Accuracy: 46.29%\n",
            "Epoch [5/50], Loss: 1.3746, Train Accuracy: 50.48%\n",
            "Epoch [6/50], Loss: 1.2814, Train Accuracy: 53.82%\n",
            "Epoch [7/50], Loss: 1.1974, Train Accuracy: 57.28%\n",
            "Epoch [8/50], Loss: 1.1232, Train Accuracy: 60.14%\n",
            "Epoch [9/50], Loss: 1.0521, Train Accuracy: 62.62%\n",
            "Epoch [10/50], Loss: 0.9918, Train Accuracy: 65.03%\n",
            "Epoch [11/50], Loss: 0.9346, Train Accuracy: 67.45%\n",
            "Epoch [12/50], Loss: 0.8785, Train Accuracy: 69.28%\n",
            "Epoch [13/50], Loss: 0.8384, Train Accuracy: 70.51%\n",
            "Epoch [14/50], Loss: 0.7944, Train Accuracy: 72.43%\n",
            "Epoch [15/50], Loss: 0.7546, Train Accuracy: 73.96%\n",
            "Epoch [16/50], Loss: 0.7196, Train Accuracy: 74.95%\n",
            "Epoch [17/50], Loss: 0.6854, Train Accuracy: 76.11%\n",
            "Epoch [18/50], Loss: 0.6596, Train Accuracy: 76.99%\n",
            "Epoch [19/50], Loss: 0.6299, Train Accuracy: 78.04%\n",
            "Epoch [20/50], Loss: 0.6054, Train Accuracy: 79.21%\n",
            "Epoch [21/50], Loss: 0.5832, Train Accuracy: 79.78%\n",
            "Epoch [22/50], Loss: 0.5576, Train Accuracy: 80.93%\n",
            "Epoch [23/50], Loss: 0.5355, Train Accuracy: 81.44%\n",
            "Epoch [24/50], Loss: 0.5103, Train Accuracy: 82.45%\n",
            "Epoch [25/50], Loss: 0.4953, Train Accuracy: 83.02%\n",
            "Epoch [26/50], Loss: 0.4782, Train Accuracy: 83.43%\n",
            "Epoch [27/50], Loss: 0.4654, Train Accuracy: 83.75%\n",
            "Epoch [28/50], Loss: 0.4467, Train Accuracy: 84.56%\n",
            "Epoch [29/50], Loss: 0.4356, Train Accuracy: 84.97%\n",
            "Epoch [30/50], Loss: 0.4200, Train Accuracy: 85.58%\n",
            "Epoch [31/50], Loss: 0.3071, Train Accuracy: 89.55%\n",
            "Epoch [32/50], Loss: 0.2549, Train Accuracy: 91.29%\n",
            "Epoch [33/50], Loss: 0.2272, Train Accuracy: 92.48%\n",
            "Epoch [34/50], Loss: 0.2062, Train Accuracy: 93.26%\n",
            "Epoch [35/50], Loss: 0.1867, Train Accuracy: 93.81%\n",
            "Epoch [36/50], Loss: 0.1745, Train Accuracy: 94.34%\n",
            "Epoch [37/50], Loss: 0.1559, Train Accuracy: 94.95%\n",
            "Epoch [38/50], Loss: 0.1452, Train Accuracy: 95.27%\n",
            "Epoch [39/50], Loss: 0.1253, Train Accuracy: 95.93%\n",
            "Epoch [40/50], Loss: 0.1224, Train Accuracy: 96.04%\n",
            "Epoch [41/50], Loss: 0.1088, Train Accuracy: 96.52%\n",
            "Epoch [42/50], Loss: 0.0979, Train Accuracy: 96.76%\n",
            "Epoch [43/50], Loss: 0.0932, Train Accuracy: 96.94%\n",
            "Epoch [44/50], Loss: 0.0808, Train Accuracy: 97.38%\n",
            "Epoch [45/50], Loss: 0.0754, Train Accuracy: 97.54%\n",
            "Epoch [46/50], Loss: 0.0705, Train Accuracy: 97.76%\n",
            "Epoch [47/50], Loss: 0.0678, Train Accuracy: 97.89%\n",
            "Epoch [48/50], Loss: 0.0597, Train Accuracy: 98.17%\n",
            "Epoch [49/50], Loss: 0.0574, Train Accuracy: 98.12%\n",
            "Epoch [50/50], Loss: 0.0520, Train Accuracy: 98.35%\n"
          ]
        }
      ],
      "source": [
        "criterion =  nn.CrossEntropyLoss()\n",
        "optimizer = optim.Adam(model_mobilenetv2.parameters(), lr=0.001)\n",
        "scheduler = lr_scheduler.StepLR(optimizer, step_size=30, gamma=0.1)\n",
        "\n",
        "# Training the model\n",
        "n_epochs = 50\n",
        "\n",
        "scaler = torch.cuda.amp.GradScaler()\n",
        "\n",
        "for epoch in range(n_epochs):\n",
        "    model_mobilenetv2.train()\n",
        "    running_loss = 0.0\n",
        "    correct = 0\n",
        "    total = 0\n",
        "\n",
        "    for inputs, labels in train_loader:\n",
        "        inputs, labels = inputs.to(device, non_blocking=True), labels.to(device, non_blocking=True)\n",
        "        optimizer.zero_grad()\n",
        "\n",
        "        with torch.cuda.amp.autocast():\n",
        "            outputs = model_mobilenetv2(inputs)\n",
        "            loss = criterion(outputs, labels)\n",
        "\n",
        "        scaler.scale(loss).backward()\n",
        "        scaler.step(optimizer)\n",
        "        scaler.update()\n",
        "\n",
        "        running_loss += loss.item() * inputs.size(0)\n",
        "        _, predicted = torch.max(outputs.data, 1)\n",
        "        total += labels.size(0)\n",
        "        correct += (predicted == labels).sum().item()\n",
        "\n",
        "    train_accuracy = correct / total\n",
        "    scheduler.step()\n",
        "\n",
        "    print(f\"Epoch [{epoch+1}/{n_epochs}], Loss: {running_loss/total:.4f}, Train Accuracy: {train_accuracy*100:.2f}%\")\n",
        "    torch.cuda.empty_cache()\n"
      ]
    },
    {
      "cell_type": "markdown",
      "metadata": {
        "id": "Ig-d_GrBsPrQ"
      },
      "source": [
        "# VGGNET"
      ]
    },
    {
      "cell_type": "code",
      "source": [
        "\n",
        "\n",
        "class VGGNet(nn.Module):\n",
        "    def __init__(self):\n",
        "        super(VGGNet, self).__init__()\n",
        "        self.features = nn.Sequential(\n",
        "            Conv(3, 64, kernel_size=3, padding=1),\n",
        "            ReLU(),\n",
        "            nn.MaxPool2d(kernel_size=2, stride=2),\n",
        "\n",
        "            Conv(64, 128, kernel_size=3, padding=1),\n",
        "            ReLU(),\n",
        "            nn.MaxPool2d(kernel_size=2, stride=2),\n",
        "\n",
        "            Conv(128, 256, kernel_size=3, padding=1),\n",
        "            ReLU(),\n",
        "            Conv(256, 256, kernel_size=3, padding=1),\n",
        "            ReLU(),\n",
        "            nn.MaxPool2d(kernel_size=2, stride=2),\n",
        "\n",
        "            Conv(256, 512, kernel_size=3, padding=1),\n",
        "            ReLU(),\n",
        "            Conv(512, 512, kernel_size=3, padding=1),\n",
        "            ReLU(),\n",
        "            nn.MaxPool2d(kernel_size=2, stride=2),\n",
        "\n",
        "            Conv(512, 512, kernel_size=3, padding=1),\n",
        "            ReLU(),\n",
        "            Conv(512, 512, kernel_size=3, padding=1),\n",
        "            ReLU(),\n",
        "            nn.MaxPool2d(kernel_size=2, stride=2)\n",
        "        )\n",
        "\n",
        "        self.classifier = nn.Sequential(\n",
        "            Linear(512 * 1 * 1, 4096),\n",
        "            ReLU(),\n",
        "            nn.Dropout(),\n",
        "            Linear(4096, 4096),\n",
        "            ReLU(),\n",
        "            nn.Dropout(),\n",
        "            Linear(4096, 10)\n",
        "        )\n",
        "\n",
        "    def forward(self, x):\n",
        "        x = self.features(x)\n",
        "        x = torch.flatten(x, 1)\n",
        "        x = self.classifier(x)\n",
        "        return x\n"
      ],
      "metadata": {
        "id": "g09oaHqKR-Jq"
      },
      "execution_count": null,
      "outputs": []
    },
    {
      "cell_type": "code",
      "execution_count": null,
      "metadata": {
        "id": "avP6ra14rpsq",
        "colab": {
          "base_uri": "https://localhost:8080/"
        },
        "outputId": "aa0cd4ff-834d-45b5-a0b8-a110a258ae47"
      },
      "outputs": [
        {
          "output_type": "execute_result",
          "data": {
            "text/plain": [
              "tensor(0.)"
            ]
          },
          "metadata": {},
          "execution_count": 36
        }
      ],
      "source": [
        "device = torch.device(\"cuda\" if torch.cuda.is_available() else \"cpu\")\n",
        "model_vggnet = VGGNet().to(device)\n",
        "torch.nn.utils.clip_grad_norm_(model_vggnet.parameters(), max_norm=1.0)\n",
        "\n"
      ]
    },
    {
      "cell_type": "code",
      "execution_count": null,
      "metadata": {
        "colab": {
          "base_uri": "https://localhost:8080/"
        },
        "id": "zJ5DmYwqsCcq",
        "outputId": "6d969ce9-9d40-4916-fa25-be0ee1621bcf"
      },
      "outputs": [
        {
          "output_type": "stream",
          "name": "stdout",
          "text": [
            "Epoch [1/50], Step [100/391], Loss: 2.3024\n",
            "Epoch [1/50], Step [200/391], Loss: 2.0305\n",
            "Epoch [1/50], Step [300/391], Loss: 1.7768\n",
            "Epoch 1, Accuracy: 38.75%\n",
            "Epoch [2/50], Step [100/391], Loss: 1.5483\n",
            "Epoch [2/50], Step [200/391], Loss: 1.4035\n",
            "Epoch [2/50], Step [300/391], Loss: 1.3270\n",
            "Epoch 2, Accuracy: 54.90%\n",
            "Epoch [3/50], Step [100/391], Loss: 1.1386\n",
            "Epoch [3/50], Step [200/391], Loss: 1.1076\n",
            "Epoch [3/50], Step [300/391], Loss: 1.0632\n",
            "Epoch 3, Accuracy: 64.71%\n",
            "Epoch [4/50], Step [100/391], Loss: 0.9685\n",
            "Epoch [4/50], Step [200/391], Loss: 0.9532\n",
            "Epoch [4/50], Step [300/391], Loss: 0.9307\n",
            "Epoch 4, Accuracy: 68.20%\n",
            "Epoch [5/50], Step [100/391], Loss: 0.8406\n",
            "Epoch [5/50], Step [200/391], Loss: 0.8393\n",
            "Epoch [5/50], Step [300/391], Loss: 0.8416\n",
            "Epoch 5, Accuracy: 69.27%\n",
            "Epoch [6/50], Step [100/391], Loss: 0.7709\n",
            "Epoch [6/50], Step [200/391], Loss: 0.7433\n",
            "Epoch [6/50], Step [300/391], Loss: 0.7498\n",
            "Epoch 6, Accuracy: 72.22%\n",
            "Epoch [7/50], Step [100/391], Loss: 0.6812\n",
            "Epoch [7/50], Step [200/391], Loss: 0.6971\n",
            "Epoch [7/50], Step [300/391], Loss: 0.6843\n",
            "Epoch 7, Accuracy: 73.97%\n",
            "Epoch [8/50], Step [100/391], Loss: 0.6341\n",
            "Epoch [8/50], Step [200/391], Loss: 0.6370\n",
            "Epoch [8/50], Step [300/391], Loss: 0.6365\n",
            "Epoch 8, Accuracy: 75.22%\n",
            "Epoch [9/50], Step [100/391], Loss: 0.5727\n",
            "Epoch [9/50], Step [200/391], Loss: 0.6099\n",
            "Epoch [9/50], Step [300/391], Loss: 0.5922\n",
            "Epoch 9, Accuracy: 76.44%\n",
            "Epoch [10/50], Step [100/391], Loss: 0.5415\n",
            "Epoch [10/50], Step [200/391], Loss: 0.5473\n",
            "Epoch [10/50], Step [300/391], Loss: 0.5641\n",
            "Epoch 10, Accuracy: 75.43%\n",
            "Epoch [11/50], Step [100/391], Loss: 0.5078\n",
            "Epoch [11/50], Step [200/391], Loss: 0.5206\n",
            "Epoch [11/50], Step [300/391], Loss: 0.5128\n",
            "Epoch 11, Accuracy: 77.75%\n",
            "Epoch [12/50], Step [100/391], Loss: 0.4609\n",
            "Epoch [12/50], Step [200/391], Loss: 0.4711\n",
            "Epoch [12/50], Step [300/391], Loss: 0.5039\n",
            "Epoch 12, Accuracy: 76.88%\n",
            "Epoch [13/50], Step [100/391], Loss: 0.4535\n",
            "Epoch [13/50], Step [200/391], Loss: 0.4639\n",
            "Epoch [13/50], Step [300/391], Loss: 0.4855\n",
            "Epoch 13, Accuracy: 77.36%\n",
            "Epoch [14/50], Step [100/391], Loss: 0.4172\n",
            "Epoch [14/50], Step [200/391], Loss: 0.4462\n",
            "Epoch [14/50], Step [300/391], Loss: 0.4547\n",
            "Epoch 14, Accuracy: 77.39%\n",
            "Epoch [15/50], Step [100/391], Loss: 0.3775\n",
            "Epoch [15/50], Step [200/391], Loss: 0.4016\n",
            "Epoch [15/50], Step [300/391], Loss: 0.4201\n",
            "Epoch 15, Accuracy: 77.64%\n",
            "Epoch [16/50], Step [100/391], Loss: 0.3738\n",
            "Epoch [16/50], Step [200/391], Loss: 0.3831\n",
            "Epoch [16/50], Step [300/391], Loss: 0.3921\n",
            "Epoch 16, Accuracy: 76.80%\n",
            "Epoch [17/50], Step [100/391], Loss: 0.3649\n",
            "Epoch [17/50], Step [200/391], Loss: 0.3695\n",
            "Epoch [17/50], Step [300/391], Loss: 0.3791\n",
            "Epoch 17, Accuracy: 77.87%\n",
            "Epoch [18/50], Step [100/391], Loss: 0.3211\n",
            "Epoch [18/50], Step [200/391], Loss: 0.3546\n",
            "Epoch [18/50], Step [300/391], Loss: 0.3558\n",
            "Epoch 18, Accuracy: 76.80%\n",
            "Epoch [19/50], Step [100/391], Loss: 0.3616\n",
            "Epoch [19/50], Step [200/391], Loss: 0.3532\n",
            "Epoch [19/50], Step [300/391], Loss: 0.3554\n",
            "Epoch 19, Accuracy: 77.30%\n",
            "Epoch [20/50], Step [100/391], Loss: 0.3242\n",
            "Epoch [20/50], Step [200/391], Loss: 0.3171\n",
            "Epoch [20/50], Step [300/391], Loss: 0.3425\n",
            "Epoch 20, Accuracy: 78.24%\n",
            "Epoch [21/50], Step [100/391], Loss: 0.2970\n",
            "Epoch [21/50], Step [200/391], Loss: 0.3108\n",
            "Epoch [21/50], Step [300/391], Loss: 0.3330\n",
            "Epoch 21, Accuracy: 78.00%\n",
            "Epoch [22/50], Step [100/391], Loss: 0.2881\n",
            "Epoch [22/50], Step [200/391], Loss: 0.2994\n",
            "Epoch [22/50], Step [300/391], Loss: 0.2940\n",
            "Epoch 22, Accuracy: 77.80%\n",
            "Epoch [23/50], Step [100/391], Loss: 0.2850\n",
            "Epoch [23/50], Step [200/391], Loss: 0.3332\n",
            "Epoch [23/50], Step [300/391], Loss: 0.3101\n",
            "Epoch 23, Accuracy: 77.04%\n",
            "Epoch [24/50], Step [100/391], Loss: 0.2601\n",
            "Epoch [24/50], Step [200/391], Loss: 0.2579\n",
            "Epoch [24/50], Step [300/391], Loss: 0.2825\n",
            "Epoch 24, Accuracy: 77.89%\n",
            "Epoch [25/50], Step [100/391], Loss: 0.2477\n",
            "Epoch [25/50], Step [200/391], Loss: 0.2693\n",
            "Epoch [25/50], Step [300/391], Loss: 0.2778\n",
            "Epoch 25, Accuracy: 78.91%\n",
            "Epoch [26/50], Step [100/391], Loss: 0.2220\n",
            "Epoch [26/50], Step [200/391], Loss: 0.2509\n",
            "Epoch [26/50], Step [300/391], Loss: 0.2786\n",
            "Epoch 26, Accuracy: 78.40%\n",
            "Epoch [27/50], Step [100/391], Loss: 0.2142\n",
            "Epoch [27/50], Step [200/391], Loss: 0.2519\n",
            "Epoch [27/50], Step [300/391], Loss: 0.2644\n",
            "Epoch 27, Accuracy: 77.42%\n",
            "Epoch [28/50], Step [100/391], Loss: 0.2203\n",
            "Epoch [28/50], Step [200/391], Loss: 0.2506\n",
            "Epoch [28/50], Step [300/391], Loss: 0.2728\n",
            "Epoch 28, Accuracy: 78.03%\n",
            "Epoch [29/50], Step [100/391], Loss: 0.2308\n",
            "Epoch [29/50], Step [200/391], Loss: 0.2849\n",
            "Epoch [29/50], Step [300/391], Loss: 0.2458\n",
            "Epoch 29, Accuracy: 78.93%\n",
            "Epoch [30/50], Step [100/391], Loss: 0.2350\n",
            "Epoch [30/50], Step [200/391], Loss: 0.2269\n",
            "Epoch [30/50], Step [300/391], Loss: 0.2469\n",
            "Epoch 30, Accuracy: 78.73%\n",
            "Epoch [31/50], Step [100/391], Loss: 0.2056\n",
            "Epoch [31/50], Step [200/391], Loss: 0.2455\n",
            "Epoch [31/50], Step [300/391], Loss: 0.2452\n",
            "Epoch 31, Accuracy: 78.40%\n",
            "Epoch [32/50], Step [100/391], Loss: 0.1790\n",
            "Epoch [32/50], Step [200/391], Loss: 0.2187\n",
            "Epoch [32/50], Step [300/391], Loss: 0.2877\n",
            "Epoch 32, Accuracy: 77.71%\n",
            "Epoch [33/50], Step [100/391], Loss: 0.1901\n",
            "Epoch [33/50], Step [200/391], Loss: 0.2146\n",
            "Epoch [33/50], Step [300/391], Loss: 0.2089\n",
            "Epoch 33, Accuracy: 78.73%\n",
            "Epoch [34/50], Step [100/391], Loss: 0.1991\n",
            "Epoch [34/50], Step [200/391], Loss: 0.1831\n",
            "Epoch [34/50], Step [300/391], Loss: 0.1994\n",
            "Epoch 34, Accuracy: 78.18%\n",
            "Epoch [35/50], Step [100/391], Loss: 0.2152\n",
            "Epoch [35/50], Step [200/391], Loss: 0.2084\n",
            "Epoch [35/50], Step [300/391], Loss: 0.2453\n",
            "Epoch 35, Accuracy: 78.93%\n",
            "Epoch [36/50], Step [100/391], Loss: 0.1799\n",
            "Epoch [36/50], Step [200/391], Loss: 0.2211\n",
            "Epoch [36/50], Step [300/391], Loss: 0.2153\n",
            "Epoch 36, Accuracy: 77.92%\n",
            "Epoch [37/50], Step [100/391], Loss: 0.1831\n",
            "Epoch [37/50], Step [200/391], Loss: 0.1950\n",
            "Epoch [37/50], Step [300/391], Loss: 0.2047\n",
            "Epoch 37, Accuracy: 77.67%\n",
            "Epoch [38/50], Step [100/391], Loss: 0.2179\n",
            "Epoch [38/50], Step [200/391], Loss: 0.2204\n",
            "Epoch [38/50], Step [300/391], Loss: 0.2000\n",
            "Epoch 38, Accuracy: 78.63%\n",
            "Epoch [39/50], Step [100/391], Loss: 0.1686\n",
            "Epoch [39/50], Step [200/391], Loss: 0.1791\n",
            "Epoch [39/50], Step [300/391], Loss: 0.2008\n",
            "Epoch 39, Accuracy: 78.24%\n",
            "Epoch [40/50], Step [100/391], Loss: 0.1608\n",
            "Epoch [40/50], Step [200/391], Loss: 0.1798\n",
            "Epoch [40/50], Step [300/391], Loss: 0.1821\n",
            "Epoch 40, Accuracy: 77.60%\n",
            "Epoch [41/50], Step [100/391], Loss: 0.2250\n",
            "Epoch [41/50], Step [200/391], Loss: 0.1795\n",
            "Epoch [41/50], Step [300/391], Loss: 0.1695\n",
            "Epoch 41, Accuracy: 78.35%\n",
            "Epoch [42/50], Step [100/391], Loss: 0.1673\n",
            "Epoch [42/50], Step [200/391], Loss: 0.1534\n",
            "Epoch [42/50], Step [300/391], Loss: 0.1736\n",
            "Epoch 42, Accuracy: 78.36%\n",
            "Epoch [43/50], Step [100/391], Loss: 0.1780\n",
            "Epoch [43/50], Step [200/391], Loss: 0.4734\n",
            "Epoch [43/50], Step [300/391], Loss: 0.3871\n",
            "Epoch 43, Accuracy: 78.19%\n",
            "Epoch [44/50], Step [100/391], Loss: 0.1930\n",
            "Epoch [44/50], Step [200/391], Loss: 0.2012\n",
            "Epoch [44/50], Step [300/391], Loss: 0.2057\n",
            "Epoch 44, Accuracy: 77.64%\n",
            "Epoch [45/50], Step [100/391], Loss: 0.1681\n",
            "Epoch [45/50], Step [200/391], Loss: 0.1678\n",
            "Epoch [45/50], Step [300/391], Loss: 0.1994\n",
            "Epoch 45, Accuracy: 79.24%\n",
            "Epoch [46/50], Step [100/391], Loss: 0.1428\n",
            "Epoch [46/50], Step [200/391], Loss: 0.1253\n",
            "Epoch [46/50], Step [300/391], Loss: 0.1543\n",
            "Epoch 46, Accuracy: 78.72%\n",
            "Epoch [47/50], Step [100/391], Loss: 0.1228\n",
            "Epoch [47/50], Step [200/391], Loss: 0.1373\n",
            "Epoch [47/50], Step [300/391], Loss: 0.1473\n",
            "Epoch 47, Accuracy: 77.76%\n",
            "Epoch [48/50], Step [100/391], Loss: 0.1464\n",
            "Epoch [48/50], Step [200/391], Loss: 0.1523\n",
            "Epoch [48/50], Step [300/391], Loss: 0.1500\n",
            "Epoch 48, Accuracy: 78.59%\n",
            "Epoch [49/50], Step [100/391], Loss: 0.1414\n",
            "Epoch [49/50], Step [200/391], Loss: 0.2347\n",
            "Epoch [49/50], Step [300/391], Loss: 0.1731\n",
            "Epoch 49, Accuracy: 78.37%\n",
            "Epoch [50/50], Step [100/391], Loss: 0.1359\n",
            "Epoch [50/50], Step [200/391], Loss: 0.1499\n",
            "Epoch [50/50], Step [300/391], Loss: 0.3255\n",
            "Epoch 50, Accuracy: 78.19%\n",
            "Finished Training\n"
          ]
        }
      ],
      "source": [
        "\n",
        "\n",
        "criterion = nn.CrossEntropyLoss()\n",
        "optimizer = optim.Adam(model_vggnet.parameters(), lr=0.001)\n",
        "\n",
        "# Training loop\n",
        "num_epochs = 50\n",
        "\n",
        "for epoch in range(num_epochs):\n",
        "    torch.cuda.empty_cache()\n",
        "    model_vggnet.train()\n",
        "    running_loss = 0.0\n",
        "\n",
        "    for i, data in enumerate(train_loader, 0):\n",
        "        inputs, labels = data\n",
        "        inputs, labels = inputs.to(device), labels.to(device)\n",
        "\n",
        "\n",
        "        optimizer.zero_grad()\n",
        "\n",
        "\n",
        "        outputs = model_vggnet(inputs)\n",
        "        loss = criterion(outputs, labels)\n",
        "\n",
        "\n",
        "        loss.backward()\n",
        "        optimizer.step()\n",
        "\n",
        "\n",
        "        running_loss += loss.item()\n",
        "        if i % 100 == 99:\n",
        "            print(f'Epoch [{epoch + 1}/{num_epochs}], Step [{i + 1}/{len(train_loader)}], Loss: {running_loss / 100:.4f}')\n",
        "            running_loss = 0.0\n",
        "\n",
        "    model_vggnet.eval()\n",
        "    correct = 0\n",
        "    total = 0\n",
        "\n",
        "    with torch.no_grad():\n",
        "        for data in test_loader:\n",
        "            inputs, labels = data\n",
        "            inputs, labels = inputs.to(device), labels.to(device)\n",
        "            outputs = model_vggnet(inputs)\n",
        "            _, predicted = torch.max(outputs.data, 1)\n",
        "            total += labels.size(0)\n",
        "            correct += (predicted == labels).sum().item()\n",
        "\n",
        "    print(f'Epoch {epoch + 1}, Accuracy: {100 * correct / total:.2f}%')\n",
        "\n",
        "print('Finished Training')"
      ]
    },
    {
      "cell_type": "markdown",
      "metadata": {
        "id": "PJzY5U_OHCre"
      },
      "source": [
        "Step 3: Train the models\n",
        "\n",
        "Train each model using the CIFAR-10 dataset."
      ]
    },
    {
      "cell_type": "markdown",
      "metadata": {
        "id": "OLQ5Ni__ppkq"
      },
      "source": [
        "#RESNET-18\n"
      ]
    },
    {
      "cell_type": "markdown",
      "metadata": {
        "id": "GbCR4-SwBvuX"
      },
      "source": [
        "version 2"
      ]
    },
    {
      "cell_type": "code",
      "execution_count": null,
      "metadata": {
        "id": "XvOqa4p6BfDY"
      },
      "outputs": [],
      "source": [
        "class ResNet(nn.Module):\n",
        "    def __init__(self, num_classes=10):\n",
        "        super(ResNet, self).__init__()\n",
        "\n",
        "\n",
        "        self.conv1 = Conv(3, 64, kernel_size=7, stride=2, padding=3)  # 7x7 Conv, stride 2\n",
        "        self.bn1 = BatchNorm2d(64)\n",
        "        self.relu = ReLU()\n",
        "        self.maxpool = nn.MaxPool2d(kernel_size=3, stride=2, padding=1)  # Max pool with 3x3 kernel, stride 2\n",
        "\n",
        "        self.layer1 = self.make_layer(64, 64, 2, stride=1)  # Two residual blocks, 64 filters\n",
        "\n",
        "        self.layer2 = self.make_layer(64, 128, 2, stride=2)  # Two residual blocks, 128 filters\n",
        "\n",
        "        self.layer3 = self.make_layer(128, 256, 2, stride=2)  # Two residual blocks, 256 filters\n",
        "\n",
        "        self.layer4 = self.make_layer(256, 512, 2, stride=2)  # Two residual blocks, 512 filters\n",
        "\n",
        "\n",
        "        self.avg_pool = nn.AdaptiveAvgPool2d((1, 1))\n",
        "        self.fc = Linear(512, num_classes)\n",
        "\n",
        "    def make_layer(self, in_channels, out_channels, blocks, stride):\n",
        "        layers = []\n",
        "        layers.append(self.BasicBlock(in_channels, out_channels, stride))\n",
        "        for _ in range(1, blocks):\n",
        "            layers.append(self.BasicBlock(out_channels, out_channels))\n",
        "        return nn.Sequential(*layers)\n",
        "\n",
        "    class BasicBlock(nn.Module):\n",
        "        def __init__(self, in_channels, out_channels, stride=1):\n",
        "            super().__init__()\n",
        "            self.conv1 = Conv(in_channels, out_channels, kernel_size=3, stride=stride, padding=1)\n",
        "            self.bn1 = BatchNorm2d(out_channels)\n",
        "            self.relu = ReLU()\n",
        "\n",
        "            self.conv2 = Conv(out_channels, out_channels, kernel_size=3, stride=1, padding=1)\n",
        "            self.bn2 = BatchNorm2d(out_channels)\n",
        "\n",
        "            self.skip_connection = nn.Identity()  # Default identity (no downsample)\n",
        "            if stride != 1 or in_channels != out_channels:\n",
        "                self.skip_connection = nn.Sequential(\n",
        "                    Conv(in_channels, out_channels, kernel_size=1, stride=stride),  # 1x1 Conv for downsampling\n",
        "                    BatchNorm2d(out_channels)\n",
        "                )\n",
        "\n",
        "        def forward(self, x):\n",
        "            identity = self.skip_connection(x)\n",
        "\n",
        "            out = self.conv1(x)\n",
        "            out = self.bn1(out)\n",
        "            out = self.relu(out)\n",
        "\n",
        "            out = self.conv2(out)\n",
        "            out = self.bn2(out)\n",
        "\n",
        "            out += identity\n",
        "            out = self.relu(out)\n",
        "\n",
        "            return out\n",
        "\n",
        "    def forward(self, x):\n",
        "        x = self.conv1(x)\n",
        "        x = self.bn1(x)\n",
        "        x = self.relu(x)\n",
        "\n",
        "        x = self.maxpool(x)\n",
        "\n",
        "        x = self.layer1(x)\n",
        "        x = self.layer2(x)\n",
        "        x = self.layer3(x)\n",
        "        x = self.layer4(x)\n",
        "\n",
        "        x = self.avg_pool(x)\n",
        "        x = x.view(x.size(0), -1)\n",
        "        x = self.fc(x)\n",
        "        return x\n"
      ]
    },
    {
      "cell_type": "code",
      "execution_count": null,
      "metadata": {
        "id": "Le9uQAfCp5Ch"
      },
      "outputs": [],
      "source": [
        "\n",
        "device = torch.device(\"cuda\" if torch.cuda.is_available() else \"cpu\")\n",
        "model_resnet18 = ResNet(num_classes=10).to(device)"
      ]
    },
    {
      "cell_type": "code",
      "execution_count": null,
      "metadata": {
        "colab": {
          "base_uri": "https://localhost:8080/"
        },
        "id": "cERNquHvp0Df",
        "outputId": "c0d937f9-293b-4b6a-dde4-ec457fda78b8"
      },
      "outputs": [
        {
          "output_type": "stream",
          "name": "stderr",
          "text": [
            "<ipython-input-25-e39440bdf139>:7: FutureWarning: `torch.cuda.amp.GradScaler(args...)` is deprecated. Please use `torch.amp.GradScaler('cuda', args...)` instead.\n",
            "  scaler = torch.cuda.amp.GradScaler()\n",
            "<ipython-input-25-e39440bdf139>:19: FutureWarning: `torch.cuda.amp.autocast(args...)` is deprecated. Please use `torch.amp.autocast('cuda', args...)` instead.\n",
            "  with torch.cuda.amp.autocast():\n"
          ]
        },
        {
          "output_type": "stream",
          "name": "stdout",
          "text": [
            "Epoch [1/50], Loss: 1.4763, Train Accuracy: 48.54%\n",
            "Epoch [2/50], Loss: 1.0284, Train Accuracy: 63.47%\n",
            "Epoch [3/50], Loss: 0.8610, Train Accuracy: 69.80%\n",
            "Epoch [4/50], Loss: 0.7553, Train Accuracy: 73.51%\n",
            "Epoch [5/50], Loss: 0.6772, Train Accuracy: 76.24%\n",
            "Epoch [6/50], Loss: 0.6101, Train Accuracy: 78.89%\n",
            "Epoch [7/50], Loss: 0.5526, Train Accuracy: 80.72%\n",
            "Epoch [8/50], Loss: 0.5034, Train Accuracy: 82.35%\n",
            "Epoch [9/50], Loss: 0.4608, Train Accuracy: 83.79%\n",
            "Epoch [10/50], Loss: 0.4193, Train Accuracy: 85.35%\n",
            "Epoch [11/50], Loss: 0.3898, Train Accuracy: 86.31%\n",
            "Epoch [12/50], Loss: 0.3484, Train Accuracy: 87.78%\n",
            "Epoch [13/50], Loss: 0.3234, Train Accuracy: 88.65%\n",
            "Epoch [14/50], Loss: 0.2912, Train Accuracy: 89.85%\n",
            "Epoch [15/50], Loss: 0.2607, Train Accuracy: 91.00%\n",
            "Epoch [16/50], Loss: 0.2385, Train Accuracy: 91.53%\n",
            "Epoch [17/50], Loss: 0.2130, Train Accuracy: 92.55%\n",
            "Epoch [18/50], Loss: 0.1938, Train Accuracy: 93.35%\n",
            "Epoch [19/50], Loss: 0.1792, Train Accuracy: 93.80%\n",
            "Epoch [20/50], Loss: 0.1631, Train Accuracy: 94.25%\n",
            "Epoch [21/50], Loss: 0.1529, Train Accuracy: 94.62%\n",
            "Epoch [22/50], Loss: 0.1347, Train Accuracy: 95.21%\n",
            "Epoch [23/50], Loss: 0.1367, Train Accuracy: 95.32%\n",
            "Epoch [24/50], Loss: 0.1171, Train Accuracy: 95.96%\n",
            "Epoch [25/50], Loss: 0.1118, Train Accuracy: 96.10%\n",
            "Epoch [26/50], Loss: 0.0998, Train Accuracy: 96.53%\n",
            "Epoch [27/50], Loss: 0.0997, Train Accuracy: 96.54%\n",
            "Epoch [28/50], Loss: 0.0937, Train Accuracy: 96.62%\n",
            "Epoch [29/50], Loss: 0.0867, Train Accuracy: 96.91%\n",
            "Epoch [30/50], Loss: 0.0807, Train Accuracy: 97.21%\n",
            "Epoch [31/50], Loss: 0.0399, Train Accuracy: 98.66%\n",
            "Epoch [32/50], Loss: 0.0178, Train Accuracy: 99.51%\n",
            "Epoch [33/50], Loss: 0.0115, Train Accuracy: 99.69%\n",
            "Epoch [34/50], Loss: 0.0087, Train Accuracy: 99.80%\n",
            "Epoch [35/50], Loss: 0.0059, Train Accuracy: 99.87%\n",
            "Epoch [36/50], Loss: 0.0042, Train Accuracy: 99.92%\n",
            "Epoch [37/50], Loss: 0.0035, Train Accuracy: 99.93%\n",
            "Epoch [38/50], Loss: 0.0029, Train Accuracy: 99.95%\n",
            "Epoch [39/50], Loss: 0.0023, Train Accuracy: 99.97%\n",
            "Epoch [40/50], Loss: 0.0022, Train Accuracy: 99.96%\n",
            "Epoch [41/50], Loss: 0.0019, Train Accuracy: 99.97%\n",
            "Epoch [42/50], Loss: 0.0017, Train Accuracy: 99.97%\n",
            "Epoch [43/50], Loss: 0.0013, Train Accuracy: 99.97%\n",
            "Epoch [44/50], Loss: 0.0028, Train Accuracy: 99.91%\n",
            "Epoch [45/50], Loss: 0.0018, Train Accuracy: 99.94%\n",
            "Epoch [46/50], Loss: 0.0013, Train Accuracy: 99.97%\n",
            "Epoch [47/50], Loss: 0.0018, Train Accuracy: 99.96%\n",
            "Epoch [48/50], Loss: 0.0011, Train Accuracy: 99.98%\n",
            "Epoch [49/50], Loss: 0.0017, Train Accuracy: 99.95%\n",
            "Epoch [50/50], Loss: 0.0019, Train Accuracy: 99.95%\n"
          ]
        }
      ],
      "source": [
        "\n",
        "\n",
        "criterion = nn.CrossEntropyLoss()\n",
        "optimizer = optim.Adam(model_resnet18.parameters(), lr=0.001)\n",
        "scheduler = lr_scheduler.StepLR(optimizer, step_size=30, gamma=0.1)\n",
        "\n",
        "# Training the model\n",
        "n_epochs = 50\n",
        "scaler = torch.cuda.amp.GradScaler()\n",
        "\n",
        "for epoch in range(n_epochs):\n",
        "    model_resnet18.train()\n",
        "    running_loss = 0.0\n",
        "    correct = 0\n",
        "    total = 0\n",
        "\n",
        "    for inputs, labels in train_loader:\n",
        "        inputs, labels = inputs.to(device, non_blocking=True), labels.to(device, non_blocking=True)\n",
        "        optimizer.zero_grad()\n",
        "\n",
        "        with torch.cuda.amp.autocast():\n",
        "            outputs = model_resnet18(inputs)\n",
        "            loss = criterion(outputs, labels)\n",
        "\n",
        "        scaler.scale(loss).backward()\n",
        "        scaler.step(optimizer)\n",
        "        scaler.update()\n",
        "\n",
        "        running_loss += loss.item() * inputs.size(0)\n",
        "        _, predicted = torch.max(outputs.data, 1)\n",
        "        total += labels.size(0)\n",
        "        correct += (predicted == labels).sum().item()\n",
        "\n",
        "    train_accuracy = correct / total\n",
        "    scheduler.step()\n",
        "\n",
        "    print(f\"Epoch [{epoch+1}/{n_epochs}], Loss: {running_loss/total:.4f}, Train Accuracy: {train_accuracy*100:.2f}%\")\n",
        "    torch.cuda.empty_cache()\n"
      ]
    },
    {
      "cell_type": "code",
      "source": [
        "torch.save(model_resnet18, \"/content/drive/MyDrive/computer_vision_hw/resnet.h5\")"
      ],
      "metadata": {
        "id": "y9_4r1RuwEgN"
      },
      "execution_count": null,
      "outputs": []
    },
    {
      "cell_type": "markdown",
      "metadata": {
        "id": "Qf790R7QHCrf"
      },
      "source": [
        "Step 4: Test the models\n",
        "\n",
        "Evaluate the trained models on the test_loader and report the top-1 classification accuracies."
      ]
    },
    {
      "cell_type": "code",
      "source": [
        "def calculate_top1_accuracy(model, test_loader,model_name):\n",
        "    model.eval()\n",
        "    correct = 0\n",
        "    total = 0\n",
        "\n",
        "\n",
        "\n",
        "    with torch.no_grad():\n",
        "        for inputs, labels in test_loader:\n",
        "            inputs, labels = inputs.to(device, non_blocking=True), labels.to(device, non_blocking=True)\n",
        "            with torch.cuda.amp.autocast():\n",
        "              outputs = model(inputs)\n",
        "\n",
        "\n",
        "            _, predicted = torch.max(outputs, 1)\n",
        "\n",
        "            total += labels.size(0)\n",
        "            correct += (predicted == labels).sum().item()\n",
        "\n",
        "    top1_accuracy = 100 * correct / total\n",
        "    print(f'{model_name} Top-1 Accuracy: {top1_accuracy:.2f}%')\n",
        "    return top1_accuracy\n",
        "\n",
        "model_mobilenetv2.to(device)\n",
        "model_resnet18.to(device)\n",
        "model_vggnet.to(device)\n",
        "\n",
        "resnet_accuracy = calculate_top1_accuracy(model_resnet18, test_loader,'ResNet')\n",
        "mobilenet_accuracy = calculate_top1_accuracy(model_mobilenetv2, test_loader,'MobileNet')\n",
        "vggnet_accuracy = calculate_top1_accuracy(model_vggnet, test_loader,'VGGNet')"
      ],
      "metadata": {
        "colab": {
          "base_uri": "https://localhost:8080/"
        },
        "id": "25LA0Myg0Vqs",
        "outputId": "de0eaf0c-69a6-408a-95fa-bbc9d0b3f684"
      },
      "execution_count": null,
      "outputs": [
        {
          "output_type": "stream",
          "name": "stderr",
          "text": [
            "<ipython-input-39-79e2f8b53bd7>:11: FutureWarning: `torch.cuda.amp.autocast(args...)` is deprecated. Please use `torch.amp.autocast('cuda', args...)` instead.\n",
            "  with torch.cuda.amp.autocast():\n"
          ]
        },
        {
          "output_type": "stream",
          "name": "stdout",
          "text": [
            "ResNet Top-1 Accuracy: 81.99%\n",
            "MobileNet Top-1 Accuracy: 78.56%\n",
            "VGGNet Top-1 Accuracy: 78.19%\n"
          ]
        }
      ]
    },
    {
      "cell_type": "markdown",
      "metadata": {
        "id": "qYhw7nuIHCrf"
      },
      "source": [
        "Step 5: Compare the models\n",
        "\n",
        "Compute the following metrics for each model:\n",
        "\n",
        "* The top-1 classification accuracy on the test set\n",
        "* The number of parameters\n",
        "* GFLOPs\n",
        "\n",
        "Create a scatter plot where:\n",
        "\n",
        "* The x-axis represents GFLOPs\n",
        "* The y-axis represents test accuracy\n",
        "* The size of each point corresponds to the number of parameters"
      ]
    },
    {
      "cell_type": "code",
      "source": [
        "def count_parameters(model):\n",
        "    return sum(p.numel() for p in model.parameters() if p.requires_grad)\n",
        "\n",
        "params_mobilenet = count_parameters(model_mobilenetv2)\n",
        "params_vgg = count_parameters(model_vggnet)\n",
        "params_resnet = count_parameters(model_resnet18)\n",
        "\n",
        "print(f\"MobileNetV2 Params: {params_mobilenet}\")\n",
        "print(f\"VGG Params: {params_vgg}\")\n",
        "print(f\"ResNet Params: {params_resnet}\")\n"
      ],
      "metadata": {
        "colab": {
          "base_uri": "https://localhost:8080/"
        },
        "id": "ZgAKorNvoymL",
        "outputId": "1e3ffaeb-a311-4533-c369-198fd5f02f0d"
      },
      "execution_count": null,
      "outputs": [
        {
          "output_type": "stream",
          "name": "stdout",
          "text": [
            "MobileNetV2 Params: 2253738\n",
            "VGG Params: 28144010\n",
            "ResNet Params: 11186442\n"
          ]
        }
      ]
    },
    {
      "cell_type": "code",
      "source": [
        "!pip install torchprofile\n"
      ],
      "metadata": {
        "colab": {
          "base_uri": "https://localhost:8080/"
        },
        "id": "8nYoIdXho8vV",
        "outputId": "651085f1-c2b4-40a5-d4dd-30232df970d8"
      },
      "execution_count": null,
      "outputs": [
        {
          "output_type": "stream",
          "name": "stdout",
          "text": [
            "Collecting torchprofile\n",
            "  Downloading torchprofile-0.0.4-py3-none-any.whl.metadata (303 bytes)\n",
            "Requirement already satisfied: numpy>=1.14 in /usr/local/lib/python3.10/dist-packages (from torchprofile) (1.26.4)\n",
            "Requirement already satisfied: torch>=1.4 in /usr/local/lib/python3.10/dist-packages (from torchprofile) (2.4.1+cu121)\n",
            "Requirement already satisfied: torchvision>=0.4 in /usr/local/lib/python3.10/dist-packages (from torchprofile) (0.19.1+cu121)\n",
            "Requirement already satisfied: filelock in /usr/local/lib/python3.10/dist-packages (from torch>=1.4->torchprofile) (3.16.1)\n",
            "Requirement already satisfied: typing-extensions>=4.8.0 in /usr/local/lib/python3.10/dist-packages (from torch>=1.4->torchprofile) (4.12.2)\n",
            "Requirement already satisfied: sympy in /usr/local/lib/python3.10/dist-packages (from torch>=1.4->torchprofile) (1.13.3)\n",
            "Requirement already satisfied: networkx in /usr/local/lib/python3.10/dist-packages (from torch>=1.4->torchprofile) (3.3)\n",
            "Requirement already satisfied: jinja2 in /usr/local/lib/python3.10/dist-packages (from torch>=1.4->torchprofile) (3.1.4)\n",
            "Requirement already satisfied: fsspec in /usr/local/lib/python3.10/dist-packages (from torch>=1.4->torchprofile) (2024.6.1)\n",
            "Requirement already satisfied: pillow!=8.3.*,>=5.3.0 in /usr/local/lib/python3.10/dist-packages (from torchvision>=0.4->torchprofile) (10.4.0)\n",
            "Requirement already satisfied: MarkupSafe>=2.0 in /usr/local/lib/python3.10/dist-packages (from jinja2->torch>=1.4->torchprofile) (2.1.5)\n",
            "Requirement already satisfied: mpmath<1.4,>=1.1.0 in /usr/local/lib/python3.10/dist-packages (from sympy->torch>=1.4->torchprofile) (1.3.0)\n",
            "Downloading torchprofile-0.0.4-py3-none-any.whl (7.7 kB)\n",
            "Installing collected packages: torchprofile\n",
            "Successfully installed torchprofile-0.0.4\n"
          ]
        }
      ]
    },
    {
      "cell_type": "code",
      "source": [
        "import torchprofile\n",
        "\n",
        "def compute_flops(model, input_size=(1, 3, 32, 32)):\n",
        "    with torch.no_grad():\n",
        "        flops = torchprofile.profile_macs(model, torch.randn(input_size).to(device))\n",
        "    return flops   #Used FLOPS because the number is too small when converted to GFLOPS\n",
        "\n",
        "flops_mobilenet = compute_flops(model_mobilenetv2)\n",
        "flops_vgg = compute_flops(model_vggnet)\n",
        "flops_resnet = compute_flops(model_resnet18)\n",
        "\n",
        "print(f\"MobileNetV2 GFLOPs: {flops_mobilenet}\")\n",
        "print(f\"VGG GFLOPs: {flops_vgg}\")\n",
        "print(f\"ResNet GFLOPs: {flops_resnet}\")\n"
      ],
      "metadata": {
        "colab": {
          "base_uri": "https://localhost:8080/"
        },
        "id": "c3K6vjsupBcq",
        "outputId": "93fe54b1-127c-46fb-a8ba-3dd538ec1267"
      },
      "execution_count": null,
      "outputs": [
        {
          "output_type": "stream",
          "name": "stderr",
          "text": [
            "/usr/local/lib/python3.10/dist-packages/torchprofile/profile.py:22: UserWarning: No handlers found: \"aten::im2col\". Skipped.\n",
            "  warnings.warn('No handlers found: \"{}\". Skipped.'.format(\n",
            "/usr/local/lib/python3.10/dist-packages/torchprofile/profile.py:22: UserWarning: No handlers found: \"aten::einsum\". Skipped.\n",
            "  warnings.warn('No handlers found: \"{}\". Skipped.'.format(\n",
            "/usr/local/lib/python3.10/dist-packages/torchprofile/profile.py:22: UserWarning: No handlers found: \"aten::unsqueeze\". Skipped.\n",
            "  warnings.warn('No handlers found: \"{}\". Skipped.'.format(\n",
            "/usr/local/lib/python3.10/dist-packages/torchprofile/profile.py:22: UserWarning: No handlers found: \"aten::sqrt\". Skipped.\n",
            "  warnings.warn('No handlers found: \"{}\". Skipped.'.format(\n",
            "/usr/local/lib/python3.10/dist-packages/torchprofile/profile.py:22: UserWarning: No handlers found: \"aten::pad\". Skipped.\n",
            "  warnings.warn('No handlers found: \"{}\". Skipped.'.format(\n",
            "/usr/local/lib/python3.10/dist-packages/torchprofile/profile.py:22: UserWarning: No handlers found: \"aten::numpy_t\". Skipped.\n",
            "  warnings.warn('No handlers found: \"{}\". Skipped.'.format(\n",
            "/usr/local/lib/python3.10/dist-packages/torchprofile/profile.py:22: UserWarning: No handlers found: \"aten::im2col\". Skipped.\n",
            "  warnings.warn('No handlers found: \"{}\". Skipped.'.format(\n",
            "/usr/local/lib/python3.10/dist-packages/torchprofile/profile.py:22: UserWarning: No handlers found: \"aten::einsum\". Skipped.\n",
            "  warnings.warn('No handlers found: \"{}\". Skipped.'.format(\n",
            "/usr/local/lib/python3.10/dist-packages/torchprofile/profile.py:22: UserWarning: No handlers found: \"aten::unsqueeze\". Skipped.\n",
            "  warnings.warn('No handlers found: \"{}\". Skipped.'.format(\n",
            "/usr/local/lib/python3.10/dist-packages/torchprofile/profile.py:22: UserWarning: No handlers found: \"aten::max\". Skipped.\n",
            "  warnings.warn('No handlers found: \"{}\". Skipped.'.format(\n",
            "/usr/local/lib/python3.10/dist-packages/torchprofile/profile.py:22: UserWarning: No handlers found: \"aten::numpy_t\". Skipped.\n",
            "  warnings.warn('No handlers found: \"{}\". Skipped.'.format(\n"
          ]
        },
        {
          "output_type": "stream",
          "name": "stdout",
          "text": [
            "MobileNetV2 GFLOPs: 559232\n",
            "VGG GFLOPs: 18915328\n",
            "ResNet GFLOPs: 56320\n"
          ]
        },
        {
          "output_type": "stream",
          "name": "stderr",
          "text": [
            "/usr/local/lib/python3.10/dist-packages/torchprofile/profile.py:22: UserWarning: No handlers found: \"aten::pad\". Skipped.\n",
            "  warnings.warn('No handlers found: \"{}\". Skipped.'.format(\n",
            "/usr/local/lib/python3.10/dist-packages/torchprofile/profile.py:22: UserWarning: No handlers found: \"aten::im2col\". Skipped.\n",
            "  warnings.warn('No handlers found: \"{}\". Skipped.'.format(\n",
            "/usr/local/lib/python3.10/dist-packages/torchprofile/profile.py:22: UserWarning: No handlers found: \"aten::einsum\". Skipped.\n",
            "  warnings.warn('No handlers found: \"{}\". Skipped.'.format(\n",
            "/usr/local/lib/python3.10/dist-packages/torchprofile/profile.py:22: UserWarning: No handlers found: \"aten::unsqueeze\". Skipped.\n",
            "  warnings.warn('No handlers found: \"{}\". Skipped.'.format(\n",
            "/usr/local/lib/python3.10/dist-packages/torchprofile/profile.py:22: UserWarning: No handlers found: \"aten::sqrt\". Skipped.\n",
            "  warnings.warn('No handlers found: \"{}\". Skipped.'.format(\n",
            "/usr/local/lib/python3.10/dist-packages/torchprofile/profile.py:22: UserWarning: No handlers found: \"aten::max\". Skipped.\n",
            "  warnings.warn('No handlers found: \"{}\". Skipped.'.format(\n",
            "/usr/local/lib/python3.10/dist-packages/torchprofile/profile.py:22: UserWarning: No handlers found: \"aten::numpy_t\". Skipped.\n",
            "  warnings.warn('No handlers found: \"{}\". Skipped.'.format(\n"
          ]
        }
      ]
    },
    {
      "cell_type": "code",
      "source": [
        "import matplotlib.pyplot as plt\n",
        "\n",
        "\n",
        "flops = [flops_mobilenet, flops_vgg, flops_resnet]\n",
        "accuracies = [mobilenet_accuracy, vggnet_accuracy, resnet_accuracy]\n",
        "params = [params_mobilenet, params_vgg, params_resnet]\n",
        "model_names = ['MobileNetV2', 'VGG', 'ResNet']\n",
        "\n",
        "plt.figure(figsize=(10, 6))\n",
        "scatter = plt.scatter(flops, accuracies, s=[p / 1e3 for p in params], c=['blue', 'green', 'red'], alpha=0.6)\n",
        "plt.xlabel('FLOPs')\n",
        "plt.ylabel('Top-1 Accuracy (%)')\n",
        "plt.title('Model Comparison: Accuracy vs FLOPs vs Parameters')\n",
        "\n",
        "for i, model_name in enumerate(model_names):\n",
        "    plt.annotate(model_name, (flops[i], accuracies[i]), fontsize=12, weight='bold')\n",
        "\n",
        "plt.grid(True)\n",
        "plt.show()\n"
      ],
      "metadata": {
        "colab": {
          "base_uri": "https://localhost:8080/",
          "height": 564
        },
        "id": "b2TrQtPcpQOA",
        "outputId": "b5005f69-289f-43cd-aaab-7a58e94addd1"
      },
      "execution_count": null,
      "outputs": [
        {
          "output_type": "display_data",
          "data": {
            "text/plain": [
              "<Figure size 1000x600 with 1 Axes>"
            ],
            "image/png": "[encoded data removed]"
          },
          "metadata": {}
        }
      ]
    }
  ],
  "metadata": {
    "accelerator": "GPU",
    "colab": {
      "gpuType": "T4",
      "provenance": [],
      "machine_shape": "hm",
      "include_colab_link": true
    },
    "kernelspec": {
      "display_name": "Python 3",
      "name": "python3"
    },
    "language_info": {
      "codemirror_mode": {
        "name": "ipython",
        "version": 3
      },
      "file_extension": ".py",
      "mimetype": "text/x-python",
      "name": "python",
      "nbconvert_exporter": "python",
      "pygments_lexer": "ipython3",
      "version": "3.8.8"
    }
  },
  "nbformat": 4,
  "nbformat_minor": 0
}